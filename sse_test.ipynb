{
 "cells": [
  {
   "cell_type": "markdown",
   "id": "b42a3122",
   "metadata": {},
   "source": [
    "# Teste Técino - Estágio Data Engineer "
   ]
  },
  {
   "cell_type": "markdown",
   "id": "d54b5614",
   "metadata": {},
   "source": [
    "## Orientações\n",
    " \n",
    "\n",
    "Nas tabelas anexas temos dados de diferentes origens sobre clientes fictícios de uma empresa de serviços financeiros:\n",
    "\n",
    "* Base de transações de cartão de crédito: Cada linha mostra uma transação feita no cartão de crédito, com o valor, lugar onde foi feita a compra, quem fez a compra, data e o status (negada/aprovada)\n",
    "\n",
    "* Base de perfil do cliente: cpf, nome, e-mail, sexo, idade, renda e estado de cada cliente\n",
    "\n",
    "A partir dos dados oferecidos, faça uma apresentação em ppt ou pdf com sua análise dos dados respondendo às seguintes questões:\n",
    "\n",
    " \n",
    "\n",
    "1. **Quantos clientes temos e qual o perfil demográfico da base?**\n",
    "\n",
    "2. **Mostre a evolução do valor gasto por mês e aponte qual mês teve o maior gasto e verifique se algum estabelecimento se destacou.**\n",
    "\n",
    "3. **Existem diferenças no comportamento de compras entre homens e mulheres?**"
   ]
  },
  {
   "cell_type": "markdown",
   "id": "7bbc504e",
   "metadata": {},
   "source": [
    "### Importações"
   ]
  },
  {
   "cell_type": "code",
   "execution_count": 1,
   "id": "be27d3b7",
   "metadata": {},
   "outputs": [],
   "source": [
    "import pandas as pd\n",
    "import numpy as np\n",
    "import matplotlib.pyplot as plt\n",
    "%matplotlib inline\n",
    "import seaborn as sns\n",
    "import sqlite3\n",
    "import datetime as dt\n",
    "import os"
   ]
  },
  {
   "cell_type": "markdown",
   "id": "adef3afb",
   "metadata": {},
   "source": [
    "### Carregando os dois datasets"
   ]
  },
  {
   "cell_type": "code",
   "execution_count": 2,
   "id": "7c584fbb",
   "metadata": {},
   "outputs": [],
   "source": [
    "#Lendo o arquivo da base clientes\n",
    "df_clientes = pd.read_csv('dados/base_clientes.csv', sep='\\t')"
   ]
  },
  {
   "cell_type": "code",
   "execution_count": 3,
   "id": "0f9f46f5",
   "metadata": {
    "scrolled": true
   },
   "outputs": [
    {
     "data": {
      "text/html": [
       "<div>\n",
       "<style scoped>\n",
       "    .dataframe tbody tr th:only-of-type {\n",
       "        vertical-align: middle;\n",
       "    }\n",
       "\n",
       "    .dataframe tbody tr th {\n",
       "        vertical-align: top;\n",
       "    }\n",
       "\n",
       "    .dataframe thead th {\n",
       "        text-align: right;\n",
       "    }\n",
       "</style>\n",
       "<table border=\"1\" class=\"dataframe\">\n",
       "  <thead>\n",
       "    <tr style=\"text-align: right;\">\n",
       "      <th></th>\n",
       "      <th>cpf</th>\n",
       "      <th>nome</th>\n",
       "      <th>sexo</th>\n",
       "      <th>idade</th>\n",
       "      <th>renda</th>\n",
       "      <th>estado</th>\n",
       "      <th>email</th>\n",
       "    </tr>\n",
       "  </thead>\n",
       "  <tbody>\n",
       "    <tr>\n",
       "      <th>0</th>\n",
       "      <td>755077935</td>\n",
       "      <td>WELINTOM</td>\n",
       "      <td>masculino</td>\n",
       "      <td>30</td>\n",
       "      <td>14915</td>\n",
       "      <td>RS</td>\n",
       "      <td>welintom3@hotmail.com</td>\n",
       "    </tr>\n",
       "    <tr>\n",
       "      <th>1</th>\n",
       "      <td>338048902</td>\n",
       "      <td>CLEIDIOMAR</td>\n",
       "      <td>masculino</td>\n",
       "      <td>28</td>\n",
       "      <td>18322</td>\n",
       "      <td>SP</td>\n",
       "      <td>cleidiomar5@hotmail.com</td>\n",
       "    </tr>\n",
       "    <tr>\n",
       "      <th>2</th>\n",
       "      <td>7471498</td>\n",
       "      <td>AMANDIO</td>\n",
       "      <td>masculino</td>\n",
       "      <td>43</td>\n",
       "      <td>10177</td>\n",
       "      <td>TO</td>\n",
       "      <td>amandio8@hotmail.com</td>\n",
       "    </tr>\n",
       "    <tr>\n",
       "      <th>3</th>\n",
       "      <td>777780623</td>\n",
       "      <td>DECIVALDO</td>\n",
       "      <td>masculino</td>\n",
       "      <td>38</td>\n",
       "      <td>35864</td>\n",
       "      <td>RJ</td>\n",
       "      <td>decivaldo5@hotmail.com</td>\n",
       "    </tr>\n",
       "    <tr>\n",
       "      <th>4</th>\n",
       "      <td>574079717</td>\n",
       "      <td>GERALD</td>\n",
       "      <td>masculino</td>\n",
       "      <td>46</td>\n",
       "      <td>35234</td>\n",
       "      <td>MG</td>\n",
       "      <td>gerald5@hotmail.com</td>\n",
       "    </tr>\n",
       "    <tr>\n",
       "      <th>...</th>\n",
       "      <td>...</td>\n",
       "      <td>...</td>\n",
       "      <td>...</td>\n",
       "      <td>...</td>\n",
       "      <td>...</td>\n",
       "      <td>...</td>\n",
       "      <td>...</td>\n",
       "    </tr>\n",
       "    <tr>\n",
       "      <th>656</th>\n",
       "      <td>191349067</td>\n",
       "      <td>RAIMUDA</td>\n",
       "      <td>feminino</td>\n",
       "      <td>42</td>\n",
       "      <td>24014</td>\n",
       "      <td>RJ</td>\n",
       "      <td>raimuda4@hotmail.com</td>\n",
       "    </tr>\n",
       "    <tr>\n",
       "      <th>657</th>\n",
       "      <td>855387121</td>\n",
       "      <td>JACI</td>\n",
       "      <td>feminino</td>\n",
       "      <td>21</td>\n",
       "      <td>24211</td>\n",
       "      <td>RJ</td>\n",
       "      <td>jaci0@hotmail.com</td>\n",
       "    </tr>\n",
       "    <tr>\n",
       "      <th>658</th>\n",
       "      <td>763141734</td>\n",
       "      <td>QUINTINO</td>\n",
       "      <td>masculino</td>\n",
       "      <td>20</td>\n",
       "      <td>24139</td>\n",
       "      <td>TO</td>\n",
       "      <td>quintino3@hotmail.com</td>\n",
       "    </tr>\n",
       "    <tr>\n",
       "      <th>659</th>\n",
       "      <td>235053593</td>\n",
       "      <td>ANJO</td>\n",
       "      <td>masculino</td>\n",
       "      <td>47</td>\n",
       "      <td>37542</td>\n",
       "      <td>MG</td>\n",
       "      <td>anjo0@hotmail.com</td>\n",
       "    </tr>\n",
       "    <tr>\n",
       "      <th>660</th>\n",
       "      <td>584413494</td>\n",
       "      <td>CLEMILSON</td>\n",
       "      <td>masculino</td>\n",
       "      <td>38</td>\n",
       "      <td>21930</td>\n",
       "      <td>SP</td>\n",
       "      <td>clemilson0@hotmail.com</td>\n",
       "    </tr>\n",
       "  </tbody>\n",
       "</table>\n",
       "<p>661 rows × 7 columns</p>\n",
       "</div>"
      ],
      "text/plain": [
       "           cpf        nome       sexo  idade  renda estado  \\\n",
       "0    755077935    WELINTOM  masculino     30  14915     RS   \n",
       "1    338048902  CLEIDIOMAR  masculino     28  18322     SP   \n",
       "2      7471498     AMANDIO  masculino     43  10177     TO   \n",
       "3    777780623   DECIVALDO  masculino     38  35864     RJ   \n",
       "4    574079717      GERALD  masculino     46  35234     MG   \n",
       "..         ...         ...        ...    ...    ...    ...   \n",
       "656  191349067     RAIMUDA   feminino     42  24014     RJ   \n",
       "657  855387121        JACI   feminino     21  24211     RJ   \n",
       "658  763141734    QUINTINO  masculino     20  24139     TO   \n",
       "659  235053593        ANJO  masculino     47  37542     MG   \n",
       "660  584413494   CLEMILSON  masculino     38  21930     SP   \n",
       "\n",
       "                       email  \n",
       "0      welintom3@hotmail.com  \n",
       "1    cleidiomar5@hotmail.com  \n",
       "2       amandio8@hotmail.com  \n",
       "3     decivaldo5@hotmail.com  \n",
       "4        gerald5@hotmail.com  \n",
       "..                       ...  \n",
       "656     raimuda4@hotmail.com  \n",
       "657        jaci0@hotmail.com  \n",
       "658    quintino3@hotmail.com  \n",
       "659        anjo0@hotmail.com  \n",
       "660   clemilson0@hotmail.com  \n",
       "\n",
       "[661 rows x 7 columns]"
      ]
     },
     "execution_count": 3,
     "metadata": {},
     "output_type": "execute_result"
    }
   ],
   "source": [
    "df_clientes"
   ]
  },
  {
   "cell_type": "code",
   "execution_count": 25,
   "id": "e432bfc0",
   "metadata": {},
   "outputs": [],
   "source": [
    "#Lendo o arquivo da base transações\n",
    "df_transacoes = pd.read_csv('dados/base_transacoes.csv', sep=';')"
   ]
  },
  {
   "cell_type": "code",
   "execution_count": 26,
   "id": "d654be2a",
   "metadata": {
    "scrolled": false
   },
   "outputs": [
    {
     "data": {
      "text/html": [
       "<div>\n",
       "<style scoped>\n",
       "    .dataframe tbody tr th:only-of-type {\n",
       "        vertical-align: middle;\n",
       "    }\n",
       "\n",
       "    .dataframe tbody tr th {\n",
       "        vertical-align: top;\n",
       "    }\n",
       "\n",
       "    .dataframe thead th {\n",
       "        text-align: right;\n",
       "    }\n",
       "</style>\n",
       "<table border=\"1\" class=\"dataframe\">\n",
       "  <thead>\n",
       "    <tr style=\"text-align: right;\">\n",
       "      <th></th>\n",
       "      <th>id_tran</th>\n",
       "      <th>cpf</th>\n",
       "      <th>estabelecimento</th>\n",
       "      <th>valor</th>\n",
       "      <th>status</th>\n",
       "      <th>data</th>\n",
       "      <th>Unnamed: 6</th>\n",
       "    </tr>\n",
       "  </thead>\n",
       "  <tbody>\n",
       "    <tr>\n",
       "      <th>0</th>\n",
       "      <td>4137</td>\n",
       "      <td>902446808</td>\n",
       "      <td>cacau show</td>\n",
       "      <td>71</td>\n",
       "      <td>aprovada</td>\n",
       "      <td>Feb-20</td>\n",
       "      <td>NaN</td>\n",
       "    </tr>\n",
       "    <tr>\n",
       "      <th>1</th>\n",
       "      <td>244</td>\n",
       "      <td>264999401</td>\n",
       "      <td>cacau show</td>\n",
       "      <td>488</td>\n",
       "      <td>aprovada</td>\n",
       "      <td>Apr-20</td>\n",
       "      <td>NaN</td>\n",
       "    </tr>\n",
       "    <tr>\n",
       "      <th>2</th>\n",
       "      <td>1815</td>\n",
       "      <td>59310922</td>\n",
       "      <td>cacau show</td>\n",
       "      <td>427</td>\n",
       "      <td>aprovada</td>\n",
       "      <td>May-20</td>\n",
       "      <td>NaN</td>\n",
       "    </tr>\n",
       "    <tr>\n",
       "      <th>3</th>\n",
       "      <td>2142</td>\n",
       "      <td>178025312</td>\n",
       "      <td>cacau show</td>\n",
       "      <td>151</td>\n",
       "      <td>aprovada</td>\n",
       "      <td>Apr-20</td>\n",
       "      <td>NaN</td>\n",
       "    </tr>\n",
       "    <tr>\n",
       "      <th>4</th>\n",
       "      <td>555</td>\n",
       "      <td>693023755</td>\n",
       "      <td>cacau show</td>\n",
       "      <td>670</td>\n",
       "      <td>aprovada</td>\n",
       "      <td>Mar-20</td>\n",
       "      <td>NaN</td>\n",
       "    </tr>\n",
       "    <tr>\n",
       "      <th>...</th>\n",
       "      <td>...</td>\n",
       "      <td>...</td>\n",
       "      <td>...</td>\n",
       "      <td>...</td>\n",
       "      <td>...</td>\n",
       "      <td>...</td>\n",
       "      <td>...</td>\n",
       "    </tr>\n",
       "    <tr>\n",
       "      <th>5226</th>\n",
       "      <td>2837</td>\n",
       "      <td>976981026</td>\n",
       "      <td>zara plazasul</td>\n",
       "      <td>226</td>\n",
       "      <td>aprovada</td>\n",
       "      <td>Feb-20</td>\n",
       "      <td>NaN</td>\n",
       "    </tr>\n",
       "    <tr>\n",
       "      <th>5227</th>\n",
       "      <td>3190</td>\n",
       "      <td>260846826</td>\n",
       "      <td>zara plazasul</td>\n",
       "      <td>246</td>\n",
       "      <td>aprovada</td>\n",
       "      <td>Apr-20</td>\n",
       "      <td>NaN</td>\n",
       "    </tr>\n",
       "    <tr>\n",
       "      <th>5228</th>\n",
       "      <td>1447</td>\n",
       "      <td>763141734</td>\n",
       "      <td>zara plazasul</td>\n",
       "      <td>746</td>\n",
       "      <td>aprovada</td>\n",
       "      <td>Jan-20</td>\n",
       "      <td>NaN</td>\n",
       "    </tr>\n",
       "    <tr>\n",
       "      <th>5229</th>\n",
       "      <td>360</td>\n",
       "      <td>667968646</td>\n",
       "      <td>zara plazasul</td>\n",
       "      <td>202</td>\n",
       "      <td>aprovada</td>\n",
       "      <td>Mar-20</td>\n",
       "      <td>NaN</td>\n",
       "    </tr>\n",
       "    <tr>\n",
       "      <th>5230</th>\n",
       "      <td>3513</td>\n",
       "      <td>982771487</td>\n",
       "      <td>zara plazasul</td>\n",
       "      <td>708</td>\n",
       "      <td>aprovada</td>\n",
       "      <td>Jan-20</td>\n",
       "      <td>NaN</td>\n",
       "    </tr>\n",
       "  </tbody>\n",
       "</table>\n",
       "<p>5231 rows × 7 columns</p>\n",
       "</div>"
      ],
      "text/plain": [
       "      id_tran        cpf estabelecimento  valor    status    data  Unnamed: 6\n",
       "0        4137  902446808      cacau show     71  aprovada  Feb-20         NaN\n",
       "1         244  264999401      cacau show    488  aprovada  Apr-20         NaN\n",
       "2        1815   59310922      cacau show    427  aprovada  May-20         NaN\n",
       "3        2142  178025312      cacau show    151  aprovada  Apr-20         NaN\n",
       "4         555  693023755      cacau show    670  aprovada  Mar-20         NaN\n",
       "...       ...        ...             ...    ...       ...     ...         ...\n",
       "5226     2837  976981026   zara plazasul    226  aprovada  Feb-20         NaN\n",
       "5227     3190  260846826   zara plazasul    246  aprovada  Apr-20         NaN\n",
       "5228     1447  763141734   zara plazasul    746  aprovada  Jan-20         NaN\n",
       "5229      360  667968646   zara plazasul    202  aprovada  Mar-20         NaN\n",
       "5230     3513  982771487   zara plazasul    708  aprovada  Jan-20         NaN\n",
       "\n",
       "[5231 rows x 7 columns]"
      ]
     },
     "execution_count": 26,
     "metadata": {},
     "output_type": "execute_result"
    }
   ],
   "source": [
    "df_transacoes"
   ]
  },
  {
   "cell_type": "code",
   "execution_count": 27,
   "id": "948d860c",
   "metadata": {},
   "outputs": [],
   "source": [
    "#Descartando a última coluna, que só possui valores nulos\n",
    "df_transacoes = df_transacoes.drop(columns='Unnamed: 6')"
   ]
  },
  {
   "cell_type": "markdown",
   "id": "6f8c4d99",
   "metadata": {},
   "source": [
    "### Modificando algumas colunas "
   ]
  },
  {
   "cell_type": "code",
   "execution_count": 40,
   "id": "154ebb78",
   "metadata": {},
   "outputs": [],
   "source": [
    "df_transacoes['data'] = pd.to_datetime(df_transacoes['data'], format='%b-%y')\n",
    "df_transacoes['data'] = df_transacoes['data'].dt.date.apply(lambda x: x.strftime('%Y-%m'))"
   ]
  },
  {
   "cell_type": "code",
   "execution_count": 41,
   "id": "9e985744",
   "metadata": {},
   "outputs": [
    {
     "data": {
      "text/html": [
       "<div>\n",
       "<style scoped>\n",
       "    .dataframe tbody tr th:only-of-type {\n",
       "        vertical-align: middle;\n",
       "    }\n",
       "\n",
       "    .dataframe tbody tr th {\n",
       "        vertical-align: top;\n",
       "    }\n",
       "\n",
       "    .dataframe thead th {\n",
       "        text-align: right;\n",
       "    }\n",
       "</style>\n",
       "<table border=\"1\" class=\"dataframe\">\n",
       "  <thead>\n",
       "    <tr style=\"text-align: right;\">\n",
       "      <th></th>\n",
       "      <th>id_tran</th>\n",
       "      <th>cpf</th>\n",
       "      <th>estabelecimento</th>\n",
       "      <th>valor</th>\n",
       "      <th>status</th>\n",
       "      <th>data</th>\n",
       "    </tr>\n",
       "  </thead>\n",
       "  <tbody>\n",
       "    <tr>\n",
       "      <th>0</th>\n",
       "      <td>4137</td>\n",
       "      <td>902446808</td>\n",
       "      <td>cacau show</td>\n",
       "      <td>71</td>\n",
       "      <td>aprovada</td>\n",
       "      <td>2020-02</td>\n",
       "    </tr>\n",
       "    <tr>\n",
       "      <th>1</th>\n",
       "      <td>244</td>\n",
       "      <td>264999401</td>\n",
       "      <td>cacau show</td>\n",
       "      <td>488</td>\n",
       "      <td>aprovada</td>\n",
       "      <td>2020-04</td>\n",
       "    </tr>\n",
       "    <tr>\n",
       "      <th>2</th>\n",
       "      <td>1815</td>\n",
       "      <td>59310922</td>\n",
       "      <td>cacau show</td>\n",
       "      <td>427</td>\n",
       "      <td>aprovada</td>\n",
       "      <td>2020-05</td>\n",
       "    </tr>\n",
       "    <tr>\n",
       "      <th>3</th>\n",
       "      <td>2142</td>\n",
       "      <td>178025312</td>\n",
       "      <td>cacau show</td>\n",
       "      <td>151</td>\n",
       "      <td>aprovada</td>\n",
       "      <td>2020-04</td>\n",
       "    </tr>\n",
       "    <tr>\n",
       "      <th>4</th>\n",
       "      <td>555</td>\n",
       "      <td>693023755</td>\n",
       "      <td>cacau show</td>\n",
       "      <td>670</td>\n",
       "      <td>aprovada</td>\n",
       "      <td>2020-03</td>\n",
       "    </tr>\n",
       "    <tr>\n",
       "      <th>...</th>\n",
       "      <td>...</td>\n",
       "      <td>...</td>\n",
       "      <td>...</td>\n",
       "      <td>...</td>\n",
       "      <td>...</td>\n",
       "      <td>...</td>\n",
       "    </tr>\n",
       "    <tr>\n",
       "      <th>5226</th>\n",
       "      <td>2837</td>\n",
       "      <td>976981026</td>\n",
       "      <td>zara plazasul</td>\n",
       "      <td>226</td>\n",
       "      <td>aprovada</td>\n",
       "      <td>2020-02</td>\n",
       "    </tr>\n",
       "    <tr>\n",
       "      <th>5227</th>\n",
       "      <td>3190</td>\n",
       "      <td>260846826</td>\n",
       "      <td>zara plazasul</td>\n",
       "      <td>246</td>\n",
       "      <td>aprovada</td>\n",
       "      <td>2020-04</td>\n",
       "    </tr>\n",
       "    <tr>\n",
       "      <th>5228</th>\n",
       "      <td>1447</td>\n",
       "      <td>763141734</td>\n",
       "      <td>zara plazasul</td>\n",
       "      <td>746</td>\n",
       "      <td>aprovada</td>\n",
       "      <td>2020-01</td>\n",
       "    </tr>\n",
       "    <tr>\n",
       "      <th>5229</th>\n",
       "      <td>360</td>\n",
       "      <td>667968646</td>\n",
       "      <td>zara plazasul</td>\n",
       "      <td>202</td>\n",
       "      <td>aprovada</td>\n",
       "      <td>2020-03</td>\n",
       "    </tr>\n",
       "    <tr>\n",
       "      <th>5230</th>\n",
       "      <td>3513</td>\n",
       "      <td>982771487</td>\n",
       "      <td>zara plazasul</td>\n",
       "      <td>708</td>\n",
       "      <td>aprovada</td>\n",
       "      <td>2020-01</td>\n",
       "    </tr>\n",
       "  </tbody>\n",
       "</table>\n",
       "<p>5231 rows × 6 columns</p>\n",
       "</div>"
      ],
      "text/plain": [
       "      id_tran        cpf estabelecimento  valor    status     data\n",
       "0        4137  902446808      cacau show     71  aprovada  2020-02\n",
       "1         244  264999401      cacau show    488  aprovada  2020-04\n",
       "2        1815   59310922      cacau show    427  aprovada  2020-05\n",
       "3        2142  178025312      cacau show    151  aprovada  2020-04\n",
       "4         555  693023755      cacau show    670  aprovada  2020-03\n",
       "...       ...        ...             ...    ...       ...      ...\n",
       "5226     2837  976981026   zara plazasul    226  aprovada  2020-02\n",
       "5227     3190  260846826   zara plazasul    246  aprovada  2020-04\n",
       "5228     1447  763141734   zara plazasul    746  aprovada  2020-01\n",
       "5229      360  667968646   zara plazasul    202  aprovada  2020-03\n",
       "5230     3513  982771487   zara plazasul    708  aprovada  2020-01\n",
       "\n",
       "[5231 rows x 6 columns]"
      ]
     },
     "execution_count": 41,
     "metadata": {},
     "output_type": "execute_result"
    }
   ],
   "source": [
    "df_transacoes"
   ]
  },
  {
   "cell_type": "markdown",
   "id": "5cb639a1",
   "metadata": {},
   "source": [
    "### Criando duas databases no SQL"
   ]
  },
  {
   "cell_type": "code",
   "execution_count": 30,
   "id": "d319761d",
   "metadata": {},
   "outputs": [],
   "source": [
    "#Criando uma nova conexão no banco de dados\n",
    "conn = sqlite3.connect('startse.db')\n",
    "\n",
    "#Verificando se a tabela já existe no banco de dados, e caso exista, descartando e criando uma nova\n",
    "try: df_transacoes.to_sql('Transacoes', conn)\n",
    "except Exception as e:\n",
    "    if \"Table 'Transacoes' already exists.\" in str(e):\n",
    "        conn.cursor().execute('DROP TABLE Transacoes')\n",
    "        df_transacoes.to_sql('Transacoes', conn)     \n",
    "    else: raise e\n",
    "        \n",
    "try: df_clientes.to_sql('Clientes', conn)\n",
    "except Exception as e:\n",
    "    if \"Table 'Clientes' already exists.\" in str(e):\n",
    "        conn.cursor().execute('DROP TABLE Clientes')\n",
    "        df_clientes.to_sql('Clientes', conn)     \n",
    "    else: raise e        "
   ]
  },
  {
   "cell_type": "markdown",
   "id": "3a4442f3",
   "metadata": {},
   "source": [
    "### Questão 1:"
   ]
  },
  {
   "cell_type": "code",
   "execution_count": 31,
   "id": "b96ea0e8",
   "metadata": {},
   "outputs": [],
   "source": [
    "query = \"SELECT SUM(CASE WHEN sexo = 'masculino' THEN 1 ELSE 0 END) as Masculino, SUM(CASE WHEN sexo = 'feminino' THEN 1 ELSE 0 END) as Feminino, COUNT(*) as Total FROM Clientes\"\n",
    "df = pd.read_sql(query, conn)"
   ]
  },
  {
   "cell_type": "code",
   "execution_count": 32,
   "id": "7dc542d6",
   "metadata": {
    "scrolled": true
   },
   "outputs": [
    {
     "data": {
      "text/html": [
       "<div>\n",
       "<style scoped>\n",
       "    .dataframe tbody tr th:only-of-type {\n",
       "        vertical-align: middle;\n",
       "    }\n",
       "\n",
       "    .dataframe tbody tr th {\n",
       "        vertical-align: top;\n",
       "    }\n",
       "\n",
       "    .dataframe thead th {\n",
       "        text-align: right;\n",
       "    }\n",
       "</style>\n",
       "<table border=\"1\" class=\"dataframe\">\n",
       "  <thead>\n",
       "    <tr style=\"text-align: right;\">\n",
       "      <th></th>\n",
       "      <th>Masculino</th>\n",
       "      <th>Feminino</th>\n",
       "      <th>Total</th>\n",
       "    </tr>\n",
       "  </thead>\n",
       "  <tbody>\n",
       "    <tr>\n",
       "      <th>0</th>\n",
       "      <td>367</td>\n",
       "      <td>294</td>\n",
       "      <td>661</td>\n",
       "    </tr>\n",
       "  </tbody>\n",
       "</table>\n",
       "</div>"
      ],
      "text/plain": [
       "   Masculino  Feminino  Total\n",
       "0        367       294    661"
      ]
     },
     "execution_count": 32,
     "metadata": {},
     "output_type": "execute_result"
    }
   ],
   "source": [
    "df"
   ]
  },
  {
   "cell_type": "markdown",
   "id": "ced9bc68",
   "metadata": {},
   "source": [
    "**Temos 661 clientes no total, sendo 367 homens e 294 mulheres.**"
   ]
  },
  {
   "cell_type": "markdown",
   "id": "4db6acfb",
   "metadata": {},
   "source": [
    "**Descobrindo o perfil demográfico:**"
   ]
  },
  {
   "cell_type": "markdown",
   "id": "42d26fd4",
   "metadata": {},
   "source": [
    "## Sexo"
   ]
  },
  {
   "cell_type": "code",
   "execution_count": 167,
   "id": "b1708459",
   "metadata": {
    "scrolled": true
   },
   "outputs": [
    {
     "data": {
      "image/png": "[encoded data removed]",
      "text/plain": [
       "<Figure size 432x288 with 1 Axes>"
      ]
     },
     "metadata": {
      "needs_background": "light"
     },
     "output_type": "display_data"
    }
   ],
   "source": [
    "ax = sns.countplot(x='sexo', data=df_clientes)\n",
    "plt.xlabel('Sexo')\n",
    "plt.ylabel('Contagem')\n",
    "plt.title('Sexo')\n",
    "plt.show()"
   ]
  },
  {
   "cell_type": "markdown",
   "id": "dcf31fee",
   "metadata": {},
   "source": [
    "## Idade"
   ]
  },
  {
   "cell_type": "code",
   "execution_count": 164,
   "id": "2184f6fc",
   "metadata": {},
   "outputs": [
    {
     "data": {
      "text/html": [
       "<div>\n",
       "<style scoped>\n",
       "    .dataframe tbody tr th:only-of-type {\n",
       "        vertical-align: middle;\n",
       "    }\n",
       "\n",
       "    .dataframe tbody tr th {\n",
       "        vertical-align: top;\n",
       "    }\n",
       "\n",
       "    .dataframe thead th {\n",
       "        text-align: right;\n",
       "    }\n",
       "</style>\n",
       "<table border=\"1\" class=\"dataframe\">\n",
       "  <thead>\n",
       "    <tr style=\"text-align: right;\">\n",
       "      <th></th>\n",
       "      <th>18-24</th>\n",
       "      <th>25-34</th>\n",
       "      <th>35-44</th>\n",
       "      <th>45-64</th>\n",
       "      <th>55-64</th>\n",
       "    </tr>\n",
       "  </thead>\n",
       "  <tbody>\n",
       "    <tr>\n",
       "      <th>0</th>\n",
       "      <td>99</td>\n",
       "      <td>172</td>\n",
       "      <td>163</td>\n",
       "      <td>142</td>\n",
       "      <td>85</td>\n",
       "    </tr>\n",
       "  </tbody>\n",
       "</table>\n",
       "</div>"
      ],
      "text/plain": [
       "   18-24  25-34  35-44  45-64  55-64\n",
       "0     99    172    163    142     85"
      ]
     },
     "execution_count": 164,
     "metadata": {},
     "output_type": "execute_result"
    }
   ],
   "source": [
    "query_idade = 'SELECT SUM(CASE WHEN idade BETWEEN 18 AND 24 THEN 1 ELSE 0 END) AS [18-24], SUM(CASE WHEN idade BETWEEN 25 AND 34 THEN 1 ELSE 0 END) AS [25-34],SUM(CASE WHEN idade BETWEEN 35 AND 44 THEN 1 ELSE 0 END) AS [35-44],SUM(CASE WHEN idade BETWEEN 45 AND 54 THEN 1 ELSE 0 END) AS [45-64],SUM(CASE WHEN idade BETWEEN 55 AND 64 THEN 1 ELSE 0 END) AS [55-64] FROM Clientes'\n",
    "df_idade = pd.read_sql(query_idade, conn)\n",
    "df_idade"
   ]
  },
  {
   "cell_type": "code",
   "execution_count": 162,
   "id": "5d8e39cb",
   "metadata": {
    "scrolled": true
   },
   "outputs": [],
   "source": [
    "lista_y = [99, 172, 163, 142, 85]\n",
    "lista_x = ['18-24', '25-34', '35-44', '45-64', '55-64']"
   ]
  },
  {
   "cell_type": "code",
   "execution_count": 166,
   "id": "40e0d9a8",
   "metadata": {
    "scrolled": true
   },
   "outputs": [
    {
     "data": {
      "image/png": "[encoded data removed]",
      "text/plain": [
       "<Figure size 432x288 with 1 Axes>"
      ]
     },
     "metadata": {
      "needs_background": "light"
     },
     "output_type": "display_data"
    }
   ],
   "source": [
    "ax = sns.barplot(x=lista_x, y=lista_y)\n",
    "plt.xticks(rotation=45)\n",
    "plt.xlabel('Range de Idades')\n",
    "plt.ylabel('Contagem')\n",
    "plt.title('Idades')\n",
    "plt.show()"
   ]
  },
  {
   "cell_type": "markdown",
   "id": "16935e31",
   "metadata": {},
   "source": [
    "## Renda"
   ]
  },
  {
   "cell_type": "code",
   "execution_count": 170,
   "id": "30d7e28b",
   "metadata": {
    "scrolled": false
   },
   "outputs": [
    {
     "data": {
      "text/html": [
       "<div>\n",
       "<style scoped>\n",
       "    .dataframe tbody tr th:only-of-type {\n",
       "        vertical-align: middle;\n",
       "    }\n",
       "\n",
       "    .dataframe tbody tr th {\n",
       "        vertical-align: top;\n",
       "    }\n",
       "\n",
       "    .dataframe thead th {\n",
       "        text-align: right;\n",
       "    }\n",
       "</style>\n",
       "<table border=\"1\" class=\"dataframe\">\n",
       "  <thead>\n",
       "    <tr style=\"text-align: right;\">\n",
       "      <th></th>\n",
       "      <th>10-15</th>\n",
       "      <th>16-24</th>\n",
       "      <th>25-36</th>\n",
       "      <th>37-48</th>\n",
       "    </tr>\n",
       "  </thead>\n",
       "  <tbody>\n",
       "    <tr>\n",
       "      <th>0</th>\n",
       "      <td>106</td>\n",
       "      <td>167</td>\n",
       "      <td>248</td>\n",
       "      <td>68</td>\n",
       "    </tr>\n",
       "  </tbody>\n",
       "</table>\n",
       "</div>"
      ],
      "text/plain": [
       "   10-15  16-24  25-36  37-48\n",
       "0    106    167    248     68"
      ]
     },
     "execution_count": 170,
     "metadata": {},
     "output_type": "execute_result"
    }
   ],
   "source": [
    "query_renda = 'SELECT SUM(CASE WHEN renda BETWEEN 10000 AND 15000 THEN 1 ELSE 0 END) AS [10-15], SUM(CASE WHEN renda BETWEEN 16000 AND 24000 THEN 1 ELSE 0 END) AS [16-24], SUM(CASE WHEN renda BETWEEN 25000 AND 36000 THEN 1 ELSE 0 END) AS [25-36], SUM(CASE WHEN renda BETWEEN 37000 AND 48000 THEN 1 ELSE 0 END) AS [37-48] FROM Clientes'\n",
    "df_renda = pd.read_sql(query_renda, conn)\n",
    "df_renda"
   ]
  },
  {
   "cell_type": "code",
   "execution_count": 176,
   "id": "a3e1ab17",
   "metadata": {},
   "outputs": [],
   "source": [
    "lista_x = ['10000-15000', '16000-24000', '25000-36000', '37000-48000']\n",
    "lista_y = [106, 167, 248,  68]"
   ]
  },
  {
   "cell_type": "code",
   "execution_count": 178,
   "id": "dbf71a23",
   "metadata": {
    "scrolled": true
   },
   "outputs": [
    {
     "data": {
      "image/png": "[encoded data removed]",
      "text/plain": [
       "<Figure size 432x288 with 1 Axes>"
      ]
     },
     "metadata": {
      "needs_background": "light"
     },
     "output_type": "display_data"
    }
   ],
   "source": [
    "ax = sns.barplot(x=lista_x, y=lista_y)\n",
    "plt.xticks(rotation=45)\n",
    "plt.xlabel('Range de Rendas (R$)')\n",
    "plt.ylabel('Contagem')\n",
    "plt.title('Renda')\n",
    "plt.show()"
   ]
  },
  {
   "cell_type": "markdown",
   "id": "ef5e98df",
   "metadata": {},
   "source": [
    "### Estado"
   ]
  },
  {
   "cell_type": "code",
   "execution_count": 124,
   "id": "6b75551c",
   "metadata": {},
   "outputs": [
    {
     "data": {
      "image/png": "[encoded data removed]",
      "text/plain": [
       "<Figure size 432x288 with 1 Axes>"
      ]
     },
     "metadata": {
      "needs_background": "light"
     },
     "output_type": "display_data"
    }
   ],
   "source": [
    "ax = sns.countplot(x='estado', data=df_clientes)\n",
    "plt.xticks(rotation=45)\n",
    "plt.show()"
   ]
  },
  {
   "cell_type": "markdown",
   "id": "82c84e08",
   "metadata": {},
   "source": [
    "### Questão 2:"
   ]
  },
  {
   "cell_type": "code",
   "execution_count": 38,
   "id": "188aff62",
   "metadata": {
    "scrolled": true
   },
   "outputs": [],
   "source": [
    "df_transacoes['estabelecimento'] = df_transacoes['estabelecimento'].str.lower()\n",
    "#df_transacoes['data'] = pd.to_datetime(df_transacoes['data'])"
   ]
  },
  {
   "cell_type": "code",
   "execution_count": 61,
   "id": "1c6a4dbc",
   "metadata": {
    "scrolled": true
   },
   "outputs": [
    {
     "data": {
      "image/png": "[encoded data removed]",
      "text/plain": [
       "<Figure size 432x288 with 1 Axes>"
      ]
     },
     "metadata": {
      "needs_background": "light"
     },
     "output_type": "display_data"
    }
   ],
   "source": [
    "ax = sns.lineplot(x=\"data\", y=\"valor\", data=df_transacoes.sort_values(by=\"data\"), hue='estabelecimento')\n",
    "plt.title('Valor gasto por mês em cada Estabelecimento')\n",
    "plt.ylabel('Valor em R$')\n",
    "plt.xlabel('Data (Ano-Mês)')\n",
    "plt.legend(bbox_to_anchor=(1.4, 1), loc='upper right', borderaxespad=0)\n",
    "plt.show()"
   ]
  },
  {
   "cell_type": "markdown",
   "id": "eff413a8",
   "metadata": {},
   "source": [
    "**A partir do gráfico acima, é possível dizer que o mês com o maior valor foi o de Abril, com um destaque para o Carrefour.**"
   ]
  },
  {
   "cell_type": "markdown",
   "id": "a7c44208",
   "metadata": {},
   "source": [
    "### Questão 3:"
   ]
  },
  {
   "cell_type": "code",
   "execution_count": 63,
   "id": "8b1ca450",
   "metadata": {},
   "outputs": [],
   "source": [
    "query3 = 'SELECT * FROM Clientes LEFT JOIN Transacoes ON Clientes.cpf = Transacoes.cpf ' \n",
    "df3 = pd.read_sql(query3, conn)"
   ]
  },
  {
   "cell_type": "code",
   "execution_count": 88,
   "id": "385ffb97",
   "metadata": {
    "scrolled": false
   },
   "outputs": [],
   "source": [
    "df3['estabelecimento'] = df3['estabelecimento'].str.lower()"
   ]
  },
  {
   "cell_type": "code",
   "execution_count": 97,
   "id": "eefdb0df",
   "metadata": {},
   "outputs": [
    {
     "name": "stdout",
     "output_type": "stream",
     "text": [
      "O total gasto por homens é de: R$915590\n"
     ]
    }
   ],
   "source": [
    "soma_valor_masculino = df3.loc[df3['sexo'] == 'masculino', 'valor'].sum()\n",
    "print(f'O total gasto por homens é de: R${soma_valor_masculino}')"
   ]
  },
  {
   "cell_type": "code",
   "execution_count": 98,
   "id": "377fa206",
   "metadata": {},
   "outputs": [
    {
     "name": "stdout",
     "output_type": "stream",
     "text": [
      "O total gasto por mulheres é de: R$736466\n"
     ]
    }
   ],
   "source": [
    "soma_valor_feminino = df3.loc[df3['sexo'] == 'feminino', 'valor'].sum()\n",
    "print(f'O total gasto por mulheres é de: R${soma_valor_feminino}')"
   ]
  },
  {
   "cell_type": "code",
   "execution_count": 95,
   "id": "2bc0a04a",
   "metadata": {
    "scrolled": true
   },
   "outputs": [
    {
     "data": {
      "image/png": "[encoded data removed]",
      "text/plain": [
       "<Figure size 432x288 with 1 Axes>"
      ]
     },
     "metadata": {
      "needs_background": "light"
     },
     "output_type": "display_data"
    }
   ],
   "source": [
    "ax = sns.barplot(x=\"sexo\", y=\"valor\", data=df3, hue='estabelecimento', ci=None, edgecolor='black')\n",
    "plt.title('Valor gasto de acordo com o Sexo por Estabelecimento')\n",
    "plt.ylabel('Valor em R$')\n",
    "plt.xlabel('Sexo')\n",
    "plt.setp(ax.patches, linewidth=1)\n",
    "plt.legend(bbox_to_anchor=(1.4, 1), loc='upper right', borderaxespad=0)\n",
    "plt.show()"
   ]
  },
  {
   "cell_type": "markdown",
   "id": "3dedfa2c",
   "metadata": {},
   "source": [
    "**De acordo com o gráfico acima, podemos ver que não existe uma grande diferença comportamental de compras entre homens e mulheres.**"
   ]
  }
 ],
 "metadata": {
  "kernelspec": {
   "display_name": "Python 3 (ipykernel)",
   "language": "python",
   "name": "python3"
  },
  "language_info": {
   "codemirror_mode": {
    "name": "ipython",
    "version": 3
   },
   "file_extension": ".py",
   "mimetype": "text/x-python",
   "name": "python",
   "nbconvert_exporter": "python",
   "pygments_lexer": "ipython3",
   "version": "3.9.7"
  }
 },
 "nbformat": 4,
 "nbformat_minor": 5
}
